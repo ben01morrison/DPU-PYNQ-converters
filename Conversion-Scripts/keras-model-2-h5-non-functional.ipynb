{
 "cells": [
  {
   "cell_type": "code",
   "execution_count": 13,
   "id": "9b27bf87",
   "metadata": {},
   "outputs": [
    {
     "name": "stdout",
     "output_type": "stream",
     "text": [
      "Tensorflow already installed\n",
      "2.6.2\n"
     ]
    }
   ],
   "source": [
    "import argparse\n",
    "import os\n",
    "import subprocess\n",
    "import sys\n",
    "try:\n",
    "    import tensorflow as tf\n",
    "    print(\"Tensorflow already installed\")\n",
    "except ImportError:\n",
    "    !pip install --upgrade pip\n",
    "    print(\"Tensorflow not installed\")\n",
    "    !pip install tensorflow==2.6.2\n",
    "    print(\"Attempting import again\")\n",
    "    import tensorflow as tf\n",
    "    print(\"Import Successfull\")\n",
    "\n",
    "## This sets the tensorflow version to 2.6.2 which is the only version I have tested that supports MobileNetV3 small. There may\n",
    "# be better versions however, so I have commented this section out. If you get too many import errors, give this version a try.\n",
    "\n",
    "#if(tensorflow.__version__ != 2.6.2){\n",
    "#    print(\"Tensorflow version is not a tested version, switching to 2.6.2\")\n",
    "#    !pip install --upgrade pip\n",
    "#    !pip install tensorflow==2.6.2\n",
    "#}\n",
    "\n",
    "print(tf.__version__)\n",
    "from tensorflow.keras.applications import MobileNetV3Small # Import your keras model here\n",
    "#Use this link to see what models are available in 2.6.2:\n",
    "#https://www.tensorflow.org/versions/r2.6/api_docs/python/tf/keras/applications\n"
   ]
  },
  {
   "cell_type": "code",
   "execution_count": 10,
   "id": "af431bd0",
   "metadata": {},
   "outputs": [],
   "source": [
    "def convert(h5_file_path):\n",
    "    \n",
    "\n",
    "    # Load model\n",
    "    model = MobileNetV3Small(weights='imagenet') # Alter model name here to match above import\n",
    "    \n",
    "    #infer = model.signatures[\"serving_default\"]\n",
    "    #model = tf.keras.Model(inputs=infer.inputs[0], outputs=infer.outputs[0])\n",
    "\n",
    "    # Save the model as a .h5 file\n",
    "    model.save(h5_file_path)"
   ]
  },
  {
   "cell_type": "code",
   "execution_count": 12,
   "id": "f52d5547",
   "metadata": {},
   "outputs": [
    {
     "name": "stdout",
     "output_type": "stream",
     "text": [
      "WARNING:tensorflow:`input_shape` is undefined or non-square, or `rows` is not 224. Weights for input shape (224, 224) will be loaded as the default.\n",
      "WARNING:tensorflow:Compiled the loaded model, but the compiled metrics have yet to be built. `model.compile_metrics` will be empty until you train or evaluate the model.\n",
      "Conversion success! Saved to: ./mobilenet_v3_model.h5\n"
     ]
    }
   ],
   "source": [
    "\n",
    "h5_file_path = os.path.join(\"./\", 'mobilenet_v3_model.h5')  # Default output name\n",
    "\n",
    "# Convert the model\n",
    "convert(h5_file_path)\n",
    "print(f\"Conversion success! Saved to: {h5_file_path}\")"
   ]
  },
  {
   "cell_type": "code",
   "execution_count": null,
   "id": "84cbd905",
   "metadata": {},
   "outputs": [],
   "source": []
  }
 ],
 "metadata": {
  "kernelspec": {
   "display_name": "Python 3",
   "language": "python",
   "name": "python3"
  },
  "language_info": {
   "codemirror_mode": {
    "name": "ipython",
    "version": 3
   },
   "file_extension": ".py",
   "mimetype": "text/x-python",
   "name": "python",
   "nbconvert_exporter": "python",
   "pygments_lexer": "ipython3",
   "version": "3.6.15"
  }
 },
 "nbformat": 4,
 "nbformat_minor": 5
}
